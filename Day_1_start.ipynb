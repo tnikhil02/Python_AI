{
 "cells": [
  {
   "cell_type": "code",
   "execution_count": 2,
   "id": "336adc1e-c1d7-4857-bc6c-1d9b58ed302e",
   "metadata": {},
   "outputs": [
    {
     "name": "stdout",
     "output_type": "stream",
     "text": [
      "I am starting my AI Journey ,Giving my 100%\n"
     ]
    }
   ],
   "source": [
    "print(\"I am starting my AI Journey ,Giving my 100%\")"
   ]
  },
  {
   "cell_type": "code",
   "execution_count": null,
   "id": "38e34387-de02-4baf-a319-add59fb8cd7b",
   "metadata": {},
   "outputs": [],
   "source": []
  }
 ],
 "metadata": {
  "kernelspec": {
   "display_name": "Python 3 (ipykernel)",
   "language": "python",
   "name": "python3"
  },
  "language_info": {
   "codemirror_mode": {
    "name": "ipython",
    "version": 3
   },
   "file_extension": ".py",
   "mimetype": "text/x-python",
   "name": "python",
   "nbconvert_exporter": "python",
   "pygments_lexer": "ipython3",
   "version": "3.11.7"
  }
 },
 "nbformat": 4,
 "nbformat_minor": 5
}
